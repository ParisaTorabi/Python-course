{
 "cells": [
  {
   "cell_type": "markdown",
   "id": "6765fa10",
   "metadata": {},
   "source": [
    "# String methods"
   ]
  },
  {
   "cell_type": "code",
   "execution_count": 1,
   "id": "8a8fb22f",
   "metadata": {},
   "outputs": [],
   "source": [
    "name  = 'Parisa'"
   ]
  },
  {
   "cell_type": "code",
   "execution_count": 2,
   "id": "0d4aee7e",
   "metadata": {},
   "outputs": [
    {
     "data": {
      "text/plain": [
       "str"
      ]
     },
     "execution_count": 2,
     "metadata": {},
     "output_type": "execute_result"
    }
   ],
   "source": [
    "type(name)"
   ]
  },
  {
   "cell_type": "code",
   "execution_count": 15,
   "id": "47fb3313",
   "metadata": {},
   "outputs": [],
   "source": [
    "name_l = name.lower()"
   ]
  },
  {
   "cell_type": "code",
   "execution_count": 16,
   "id": "2753f1a9",
   "metadata": {},
   "outputs": [
    {
     "data": {
      "text/plain": [
       "True"
      ]
     },
     "execution_count": 16,
     "metadata": {},
     "output_type": "execute_result"
    }
   ],
   "source": [
    "name_l.islower()"
   ]
  },
  {
   "cell_type": "code",
   "execution_count": 18,
   "id": "446113b0",
   "metadata": {},
   "outputs": [
    {
     "data": {
      "text/plain": [
       "3"
      ]
     },
     "execution_count": 18,
     "metadata": {},
     "output_type": "execute_result"
    }
   ],
   "source": [
    "name.index('i')"
   ]
  },
  {
   "cell_type": "code",
   "execution_count": 19,
   "id": "7a6b22b4",
   "metadata": {},
   "outputs": [],
   "source": [
    "sentence = \"Hello man, how are you doing?\""
   ]
  },
  {
   "cell_type": "code",
   "execution_count": 20,
   "id": "aa556b36",
   "metadata": {},
   "outputs": [
    {
     "data": {
      "text/plain": [
       "['Hello', 'man,', 'how', 'are', 'you', 'doing?']"
      ]
     },
     "execution_count": 20,
     "metadata": {},
     "output_type": "execute_result"
    }
   ],
   "source": [
    "sentence.split()"
   ]
  },
  {
   "cell_type": "markdown",
   "id": "5a5d0137",
   "metadata": {},
   "source": [
    "# String interpolation"
   ]
  },
  {
   "cell_type": "code",
   "execution_count": null,
   "id": "3116562f",
   "metadata": {},
   "outputs": [
    {
     "data": {
      "text/plain": [
       "'Hello, my name is Parisa, 31 years old'"
      ]
     },
     "execution_count": 21,
     "metadata": {},
     "output_type": "execute_result"
    }
   ],
   "source": [
    "# old method, not good practice\n",
    "\"Hello, my name is %s, %i years old\" % (\"Parisa\", 31)"
   ]
  },
  {
   "cell_type": "code",
   "execution_count": 27,
   "id": "bcf97c42",
   "metadata": {},
   "outputs": [
    {
     "data": {
      "text/plain": [
       "'Hello, my name is Parisa, 31 years old'"
      ]
     },
     "execution_count": 27,
     "metadata": {},
     "output_type": "execute_result"
    }
   ],
   "source": [
    "\"Hello, my name is {}, {} years old\".format(\"Parisa\", 31)"
   ]
  },
  {
   "cell_type": "code",
   "execution_count": 29,
   "id": "735cbabc",
   "metadata": {},
   "outputs": [
    {
     "data": {
      "text/plain": [
       "'Hello, my name is Parisa, Parisa years old'"
      ]
     },
     "execution_count": 29,
     "metadata": {},
     "output_type": "execute_result"
    }
   ],
   "source": [
    "\"Hello, my name is {0}, {0} years old\".format(\"Parisa\", 31)"
   ]
  },
  {
   "cell_type": "code",
   "execution_count": 28,
   "id": "510cb009",
   "metadata": {},
   "outputs": [
    {
     "data": {
      "text/plain": [
       "'Hello, my name is Parisa, 31 years old'"
      ]
     },
     "execution_count": 28,
     "metadata": {},
     "output_type": "execute_result"
    }
   ],
   "source": [
    "\"Hello, my name is {name}, {age} years old\".format(name=\"Parisa\", age =31)"
   ]
  },
  {
   "cell_type": "code",
   "execution_count": 31,
   "id": "210f32e0",
   "metadata": {},
   "outputs": [
    {
     "data": {
      "text/plain": [
       "'Hello, my name is Parisa, 31.5 years old'"
      ]
     },
     "execution_count": 31,
     "metadata": {},
     "output_type": "execute_result"
    }
   ],
   "source": [
    "# precision in formatting\n",
    "\"Hello, my name is {name}, {age:.1f} years old\".format(name=\"Parisa\", age =31.462)"
   ]
  },
  {
   "cell_type": "markdown",
   "id": "ff7d3bd0",
   "metadata": {},
   "source": [
    "F-strings! Best practice!"
   ]
  },
  {
   "cell_type": "code",
   "execution_count": 34,
   "id": "81cc3538",
   "metadata": {},
   "outputs": [
    {
     "data": {
      "text/plain": [
       "'Hello, my name is Parisa, 31.69 years old'"
      ]
     },
     "execution_count": 34,
     "metadata": {},
     "output_type": "execute_result"
    }
   ],
   "source": [
    "name = 'Parisa'; age = 31.6874\n",
    "f\"Hello, my name is {name}, {age:.2f} years old\""
   ]
  },
  {
   "cell_type": "markdown",
   "id": "88041e14",
   "metadata": {},
   "source": [
    "**Quiz**: Write a code to make the following string a lower-case, then show a list of words."
   ]
  },
  {
   "cell_type": "code",
   "execution_count": 37,
   "id": "2b2978ee",
   "metadata": {},
   "outputs": [
    {
     "data": {
      "text/plain": [
       "['hi', 'this', 'is', 'a', 'string']"
      ]
     },
     "execution_count": 37,
     "metadata": {},
     "output_type": "execute_result"
    }
   ],
   "source": [
    "x = 'Hi this is a string'\n",
    "\n",
    "x.lower().split(\" \")"
   ]
  },
  {
   "cell_type": "markdown",
   "id": "b66b967c",
   "metadata": {},
   "source": [
    "# Lists"
   ]
  },
  {
   "cell_type": "code",
   "execution_count": 1,
   "id": "1ee15cb4",
   "metadata": {},
   "outputs": [],
   "source": [
    "names = [\"Sofia\", \"Parisa\",\"Jadi\"]"
   ]
  },
  {
   "cell_type": "code",
   "execution_count": 13,
   "id": "0afcf71f",
   "metadata": {},
   "outputs": [
    {
     "data": {
      "text/plain": [
       "['Parisa']"
      ]
     },
     "execution_count": 13,
     "metadata": {},
     "output_type": "execute_result"
    }
   ],
   "source": [
    "names[1:2]"
   ]
  },
  {
   "cell_type": "code",
   "execution_count": 14,
   "id": "fde2d2eb",
   "metadata": {},
   "outputs": [],
   "source": [
    "names.remove(\"Sofia\")"
   ]
  },
  {
   "cell_type": "code",
   "execution_count": 15,
   "id": "97894a25",
   "metadata": {},
   "outputs": [
    {
     "data": {
      "text/plain": [
       "['Parisa', 'Jadi']"
      ]
     },
     "execution_count": 15,
     "metadata": {},
     "output_type": "execute_result"
    }
   ],
   "source": [
    "names"
   ]
  },
  {
   "cell_type": "code",
   "execution_count": 17,
   "id": "e2eea3dc",
   "metadata": {},
   "outputs": [],
   "source": [
    "names.reverse()"
   ]
  },
  {
   "cell_type": "code",
   "execution_count": 18,
   "id": "87401b08",
   "metadata": {},
   "outputs": [
    {
     "data": {
      "text/plain": [
       "['Jadi', 'Parisa']"
      ]
     },
     "execution_count": 18,
     "metadata": {},
     "output_type": "execute_result"
    }
   ],
   "source": [
    "names"
   ]
  },
  {
   "cell_type": "code",
   "execution_count": 4,
   "id": "843f808b",
   "metadata": {},
   "outputs": [],
   "source": [
    "my_list = [0,1,2,3,4]"
   ]
  },
  {
   "cell_type": "code",
   "execution_count": 5,
   "id": "7a8f67dd",
   "metadata": {},
   "outputs": [],
   "source": [
    "new_list = my_list*2"
   ]
  },
  {
   "cell_type": "code",
   "execution_count": 6,
   "id": "7e12f7bb",
   "metadata": {},
   "outputs": [
    {
     "data": {
      "text/plain": [
       "2"
      ]
     },
     "execution_count": 6,
     "metadata": {},
     "output_type": "execute_result"
    }
   ],
   "source": [
    "new_list.count(4)"
   ]
  },
  {
   "cell_type": "code",
   "execution_count": 7,
   "id": "80193bdd",
   "metadata": {},
   "outputs": [
    {
     "data": {
      "text/plain": [
       "0"
      ]
     },
     "execution_count": 7,
     "metadata": {},
     "output_type": "execute_result"
    }
   ],
   "source": [
    "new_list.count(10)"
   ]
  },
  {
   "cell_type": "code",
   "execution_count": 9,
   "id": "174ab0e6",
   "metadata": {},
   "outputs": [
    {
     "data": {
      "text/plain": [
       "3"
      ]
     },
     "execution_count": 9,
     "metadata": {},
     "output_type": "execute_result"
    }
   ],
   "source": [
    "new_list.pop(3)"
   ]
  },
  {
   "cell_type": "code",
   "execution_count": null,
   "id": "f82d64e8",
   "metadata": {},
   "outputs": [
    {
     "data": {
      "text/plain": [
       "[0, 1, 2, 4, 0, 1, 2, 3]"
      ]
     },
     "execution_count": 10,
     "metadata": {},
     "output_type": "execute_result"
    }
   ],
   "source": [
    "new_list"
   ]
  },
  {
   "cell_type": "code",
   "execution_count": 11,
   "id": "ac202558",
   "metadata": {},
   "outputs": [],
   "source": [
    "new_list.sort()"
   ]
  },
  {
   "cell_type": "code",
   "execution_count": 12,
   "id": "654270f3",
   "metadata": {},
   "outputs": [
    {
     "data": {
      "text/plain": [
       "[0, 0, 1, 1, 2, 2, 3, 4]"
      ]
     },
     "execution_count": 12,
     "metadata": {},
     "output_type": "execute_result"
    }
   ],
   "source": [
    "new_list"
   ]
  },
  {
   "cell_type": "markdown",
   "id": "5cd354e4",
   "metadata": {},
   "source": [
    "**Quiz**: Write a code to remove 3 from the following list and add 10 to the end of the list"
   ]
  },
  {
   "cell_type": "code",
   "execution_count": 19,
   "id": "e711c24f",
   "metadata": {},
   "outputs": [],
   "source": [
    "my_list = [1, 2, 3, 4, 5]"
   ]
  },
  {
   "cell_type": "code",
   "execution_count": 20,
   "id": "828b5a76",
   "metadata": {},
   "outputs": [],
   "source": [
    "my_list.remove(3)"
   ]
  },
  {
   "cell_type": "code",
   "execution_count": 22,
   "id": "ce78ed08",
   "metadata": {},
   "outputs": [],
   "source": [
    "my_list.append(10)"
   ]
  },
  {
   "cell_type": "code",
   "execution_count": 23,
   "id": "6fb25555",
   "metadata": {},
   "outputs": [
    {
     "data": {
      "text/plain": [
       "[1, 2, 4, 5, 10]"
      ]
     },
     "execution_count": 23,
     "metadata": {},
     "output_type": "execute_result"
    }
   ],
   "source": [
    "my_list"
   ]
  },
  {
   "cell_type": "markdown",
   "id": "fbc4da7e",
   "metadata": {},
   "source": [
    "# Dictionaries"
   ]
  },
  {
   "cell_type": "code",
   "execution_count": 24,
   "id": "1779712b",
   "metadata": {},
   "outputs": [],
   "source": [
    "grades = {\n",
    "    \"Parisa\":{\n",
    "        \"math\":100, \n",
    "        \"programming\":90, \n",
    "        \"literature\": 70\n",
    "        }, \n",
    "        \"John\":{\n",
    "            \"math\":90, \n",
    "            \"programming\":100, \n",
    "            \"literature\": 75\n",
    "            }\n",
    "            }"
   ]
  },
  {
   "cell_type": "code",
   "execution_count": 28,
   "id": "f63585bb",
   "metadata": {},
   "outputs": [
    {
     "data": {
      "text/plain": [
       "-1"
      ]
     },
     "execution_count": 28,
     "metadata": {},
     "output_type": "execute_result"
    }
   ],
   "source": [
    "grades.get(\"Parisa\").get(\"Spanish\", -1)"
   ]
  },
  {
   "cell_type": "code",
   "execution_count": 30,
   "id": "c759a7ee",
   "metadata": {},
   "outputs": [
    {
     "data": {
      "text/plain": [
       "'no Jack'"
      ]
     },
     "execution_count": 30,
     "metadata": {},
     "output_type": "execute_result"
    }
   ],
   "source": [
    "grades.get(\"Jack\", \"no Jack\")"
   ]
  },
  {
   "cell_type": "code",
   "execution_count": null,
   "id": "0b8fe8bd",
   "metadata": {},
   "outputs": [
    {
     "data": {
      "text/plain": [
       "dict_items([('Parisa', {'math': 100, 'programming': 90, 'literature': 70}), ('John', {'math': 90, 'programming': 100, 'literature': 75})])"
      ]
     },
     "execution_count": 31,
     "metadata": {},
     "output_type": "execute_result"
    }
   ],
   "source": [
    "grades.items()"
   ]
  },
  {
   "cell_type": "markdown",
   "id": "ad460d8a",
   "metadata": {},
   "source": [
    "**Quiz**: Write a code to make a dictionary of fruits with prices, \n",
    "apple: 1500\n",
    "banana: 1000\n",
    "orange: 1200\n",
    "\n",
    "Then change the price of banana to 1100 and remove apple altogether. Print this dictionary."
   ]
  },
  {
   "cell_type": "code",
   "execution_count": 40,
   "id": "3fa35a28",
   "metadata": {},
   "outputs": [
    {
     "data": {
      "text/plain": [
       "{'apple': 1500, 'banana': 1000, 'orange': 1200}"
      ]
     },
     "execution_count": 40,
     "metadata": {},
     "output_type": "execute_result"
    }
   ],
   "source": [
    "fruit_prices = {\n",
    "    \"apple\":1500,\n",
    "    \"banana\": 1000,\n",
    "    \"orange\": 1200\n",
    "    }\n",
    "fruit_prices"
   ]
  },
  {
   "cell_type": "code",
   "execution_count": 41,
   "id": "cc082fbe",
   "metadata": {},
   "outputs": [
    {
     "data": {
      "text/plain": [
       "{'apple': 1500, 'banana': 1100, 'orange': 1200}"
      ]
     },
     "execution_count": 41,
     "metadata": {},
     "output_type": "execute_result"
    }
   ],
   "source": [
    "fruit_prices[\"banana\"] = 1100\n",
    "fruit_prices"
   ]
  },
  {
   "cell_type": "code",
   "execution_count": 42,
   "id": "72ef31f3",
   "metadata": {},
   "outputs": [
    {
     "name": "stdout",
     "output_type": "stream",
     "text": [
      "{'banana': 1100, 'orange': 1200}\n"
     ]
    }
   ],
   "source": [
    "fruit_prices.pop(\"apple\")\n",
    "print(fruit_prices)"
   ]
  },
  {
   "cell_type": "markdown",
   "id": "44b91ba6",
   "metadata": {},
   "source": [
    "# Tuples"
   ]
  },
  {
   "cell_type": "code",
   "execution_count": 43,
   "id": "e0a72451",
   "metadata": {},
   "outputs": [],
   "source": [
    "t1 = (1994, \"Parisa\", 3.1415, \"Norway\")"
   ]
  },
  {
   "cell_type": "code",
   "execution_count": 44,
   "id": "4081041a",
   "metadata": {},
   "outputs": [
    {
     "data": {
      "text/plain": [
       "3.1415"
      ]
     },
     "execution_count": 44,
     "metadata": {},
     "output_type": "execute_result"
    }
   ],
   "source": [
    "t1[2]"
   ]
  },
  {
   "cell_type": "code",
   "execution_count": null,
   "id": "d80d67fa",
   "metadata": {},
   "outputs": [
    {
     "ename": "TypeError",
     "evalue": "'tuple' object does not support item assignment",
     "output_type": "error",
     "traceback": [
      "\u001b[1;31m---------------------------------------------------------------------------\u001b[0m",
      "\u001b[1;31mTypeError\u001b[0m                                 Traceback (most recent call last)",
      "\u001b[1;32m~\\AppData\\Local\\Temp\\ipykernel_3000\\3492625011.py\u001b[0m in \u001b[0;36m<module>\u001b[1;34m\u001b[0m\n\u001b[0;32m      1\u001b[0m \u001b[1;31m## no assignment!\u001b[0m\u001b[1;33m\u001b[0m\u001b[1;33m\u001b[0m\u001b[0m\n\u001b[0;32m      2\u001b[0m \u001b[1;33m\u001b[0m\u001b[0m\n\u001b[1;32m----> 3\u001b[1;33m \u001b[0mt1\u001b[0m\u001b[1;33m[\u001b[0m\u001b[1;36m0\u001b[0m\u001b[1;33m]\u001b[0m \u001b[1;33m=\u001b[0m \u001b[1;36m1993\u001b[0m\u001b[1;33m\u001b[0m\u001b[1;33m\u001b[0m\u001b[0m\n\u001b[0m",
      "\u001b[1;31mTypeError\u001b[0m: 'tuple' object does not support item assignment"
     ]
    }
   ],
   "source": [
    "## immutable...\n",
    "\n",
    "t1[0] = 1993\n",
    "# but better performance!"
   ]
  },
  {
   "cell_type": "markdown",
   "id": "af88d3cb",
   "metadata": {},
   "source": [
    "**Quiz**: Make a tuple called coordinates that contains the coosdinates of point A, (3,4). \n",
    "Now write a code to compute the distance of A from the origin."
   ]
  },
  {
   "cell_type": "code",
   "execution_count": 46,
   "id": "738afe6f",
   "metadata": {},
   "outputs": [],
   "source": [
    "A = (3,4)\n",
    "O = (0,0)\n",
    "distance_to_origin = (((A[0]-O[0])**2)+((A[1]-O[0])**2))**(1/2)"
   ]
  },
  {
   "cell_type": "code",
   "execution_count": 47,
   "id": "7278e425",
   "metadata": {},
   "outputs": [
    {
     "data": {
      "text/plain": [
       "5.0"
      ]
     },
     "execution_count": 47,
     "metadata": {},
     "output_type": "execute_result"
    }
   ],
   "source": [
    "distance_to_origin"
   ]
  }
 ],
 "metadata": {
  "kernelspec": {
   "display_name": "base",
   "language": "python",
   "name": "python3"
  },
  "language_info": {
   "codemirror_mode": {
    "name": "ipython",
    "version": 3
   },
   "file_extension": ".py",
   "mimetype": "text/x-python",
   "name": "python",
   "nbconvert_exporter": "python",
   "pygments_lexer": "ipython3",
   "version": "3.9.7"
  }
 },
 "nbformat": 4,
 "nbformat_minor": 5
}
