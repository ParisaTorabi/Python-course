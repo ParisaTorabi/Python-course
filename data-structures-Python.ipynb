{
 "cells": [
  {
   "cell_type": "markdown",
   "id": "6765fa10",
   "metadata": {},
   "source": [
    "# String methods"
   ]
  },
  {
   "cell_type": "code",
   "execution_count": 1,
   "id": "8a8fb22f",
   "metadata": {},
   "outputs": [],
   "source": [
    "name  = 'Parisa'"
   ]
  },
  {
   "cell_type": "code",
   "execution_count": 2,
   "id": "0d4aee7e",
   "metadata": {},
   "outputs": [
    {
     "data": {
      "text/plain": [
       "str"
      ]
     },
     "execution_count": 2,
     "metadata": {},
     "output_type": "execute_result"
    }
   ],
   "source": [
    "type(name)"
   ]
  },
  {
   "cell_type": "code",
   "execution_count": 15,
   "id": "47fb3313",
   "metadata": {},
   "outputs": [],
   "source": [
    "name_l = name.lower()"
   ]
  },
  {
   "cell_type": "code",
   "execution_count": 16,
   "id": "2753f1a9",
   "metadata": {},
   "outputs": [
    {
     "data": {
      "text/plain": [
       "True"
      ]
     },
     "execution_count": 16,
     "metadata": {},
     "output_type": "execute_result"
    }
   ],
   "source": [
    "name_l.islower()"
   ]
  },
  {
   "cell_type": "code",
   "execution_count": 18,
   "id": "446113b0",
   "metadata": {},
   "outputs": [
    {
     "data": {
      "text/plain": [
       "3"
      ]
     },
     "execution_count": 18,
     "metadata": {},
     "output_type": "execute_result"
    }
   ],
   "source": [
    "name.index('i')"
   ]
  },
  {
   "cell_type": "code",
   "execution_count": 19,
   "id": "7a6b22b4",
   "metadata": {},
   "outputs": [],
   "source": [
    "sentence = \"Hello man, how are you doing?\""
   ]
  },
  {
   "cell_type": "code",
   "execution_count": 20,
   "id": "aa556b36",
   "metadata": {},
   "outputs": [
    {
     "data": {
      "text/plain": [
       "['Hello', 'man,', 'how', 'are', 'you', 'doing?']"
      ]
     },
     "execution_count": 20,
     "metadata": {},
     "output_type": "execute_result"
    }
   ],
   "source": [
    "sentence.split()"
   ]
  },
  {
   "cell_type": "markdown",
   "id": "5a5d0137",
   "metadata": {},
   "source": [
    "# String interpolation"
   ]
  },
  {
   "cell_type": "code",
   "execution_count": null,
   "id": "3116562f",
   "metadata": {},
   "outputs": [
    {
     "data": {
      "text/plain": [
       "'Hello, my name is Parisa, 31 years old'"
      ]
     },
     "execution_count": 21,
     "metadata": {},
     "output_type": "execute_result"
    }
   ],
   "source": [
    "# old method, not good practice\n",
    "\"Hello, my name is %s, %i years old\" % (\"Parisa\", 31)"
   ]
  },
  {
   "cell_type": "code",
   "execution_count": 27,
   "id": "bcf97c42",
   "metadata": {},
   "outputs": [
    {
     "data": {
      "text/plain": [
       "'Hello, my name is Parisa, 31 years old'"
      ]
     },
     "execution_count": 27,
     "metadata": {},
     "output_type": "execute_result"
    }
   ],
   "source": [
    "\"Hello, my name is {}, {} years old\".format(\"Parisa\", 31)"
   ]
  },
  {
   "cell_type": "code",
   "execution_count": 29,
   "id": "735cbabc",
   "metadata": {},
   "outputs": [
    {
     "data": {
      "text/plain": [
       "'Hello, my name is Parisa, Parisa years old'"
      ]
     },
     "execution_count": 29,
     "metadata": {},
     "output_type": "execute_result"
    }
   ],
   "source": [
    "\"Hello, my name is {0}, {0} years old\".format(\"Parisa\", 31)"
   ]
  },
  {
   "cell_type": "code",
   "execution_count": 28,
   "id": "510cb009",
   "metadata": {},
   "outputs": [
    {
     "data": {
      "text/plain": [
       "'Hello, my name is Parisa, 31 years old'"
      ]
     },
     "execution_count": 28,
     "metadata": {},
     "output_type": "execute_result"
    }
   ],
   "source": [
    "\"Hello, my name is {name}, {age} years old\".format(name=\"Parisa\", age =31)"
   ]
  },
  {
   "cell_type": "code",
   "execution_count": 31,
   "id": "210f32e0",
   "metadata": {},
   "outputs": [
    {
     "data": {
      "text/plain": [
       "'Hello, my name is Parisa, 31.5 years old'"
      ]
     },
     "execution_count": 31,
     "metadata": {},
     "output_type": "execute_result"
    }
   ],
   "source": [
    "# precision in formatting\n",
    "\"Hello, my name is {name}, {age:.1f} years old\".format(name=\"Parisa\", age =31.462)"
   ]
  },
  {
   "cell_type": "markdown",
   "id": "ff7d3bd0",
   "metadata": {},
   "source": [
    "F-strings! Best practice!"
   ]
  },
  {
   "cell_type": "code",
   "execution_count": 34,
   "id": "81cc3538",
   "metadata": {},
   "outputs": [
    {
     "data": {
      "text/plain": [
       "'Hello, my name is Parisa, 31.69 years old'"
      ]
     },
     "execution_count": 34,
     "metadata": {},
     "output_type": "execute_result"
    }
   ],
   "source": [
    "name = 'Parisa'; age = 31.6874\n",
    "f\"Hello, my name is {name}, {age:.2f} years old\""
   ]
  },
  {
   "cell_type": "markdown",
   "id": "88041e14",
   "metadata": {},
   "source": [
    "**Quiz**: Write a code to make the following string a lower-case, then show a list of words."
   ]
  },
  {
   "cell_type": "code",
   "execution_count": 37,
   "id": "2b2978ee",
   "metadata": {},
   "outputs": [
    {
     "data": {
      "text/plain": [
       "['hi', 'this', 'is', 'a', 'string']"
      ]
     },
     "execution_count": 37,
     "metadata": {},
     "output_type": "execute_result"
    }
   ],
   "source": [
    "x = 'Hi this is a string'\n",
    "\n",
    "x.lower().split(\" \")"
   ]
  },
  {
   "cell_type": "markdown",
   "id": "b66b967c",
   "metadata": {},
   "source": [
    "# Lists"
   ]
  },
  {
   "cell_type": "code",
   "execution_count": 1,
   "id": "1ee15cb4",
   "metadata": {},
   "outputs": [],
   "source": [
    "names = [\"Sofia\", \"Parisa\",\"Jadi\"]"
   ]
  },
  {
   "cell_type": "code",
   "execution_count": 13,
   "id": "0afcf71f",
   "metadata": {},
   "outputs": [
    {
     "data": {
      "text/plain": [
       "['Parisa']"
      ]
     },
     "execution_count": 13,
     "metadata": {},
     "output_type": "execute_result"
    }
   ],
   "source": [
    "names[1:2]"
   ]
  },
  {
   "cell_type": "code",
   "execution_count": 14,
   "id": "fde2d2eb",
   "metadata": {},
   "outputs": [],
   "source": [
    "names.remove(\"Sofia\")"
   ]
  },
  {
   "cell_type": "code",
   "execution_count": 15,
   "id": "97894a25",
   "metadata": {},
   "outputs": [
    {
     "data": {
      "text/plain": [
       "['Parisa', 'Jadi']"
      ]
     },
     "execution_count": 15,
     "metadata": {},
     "output_type": "execute_result"
    }
   ],
   "source": [
    "names"
   ]
  },
  {
   "cell_type": "code",
   "execution_count": 17,
   "id": "e2eea3dc",
   "metadata": {},
   "outputs": [],
   "source": [
    "names.reverse()"
   ]
  },
  {
   "cell_type": "code",
   "execution_count": 18,
   "id": "87401b08",
   "metadata": {},
   "outputs": [
    {
     "data": {
      "text/plain": [
       "['Jadi', 'Parisa']"
      ]
     },
     "execution_count": 18,
     "metadata": {},
     "output_type": "execute_result"
    }
   ],
   "source": [
    "names"
   ]
  },
  {
   "cell_type": "code",
   "execution_count": 4,
   "id": "843f808b",
   "metadata": {},
   "outputs": [],
   "source": [
    "my_list = [0,1,2,3,4]"
   ]
  },
  {
   "cell_type": "code",
   "execution_count": 5,
   "id": "7a8f67dd",
   "metadata": {},
   "outputs": [],
   "source": [
    "new_list = my_list*2"
   ]
  },
  {
   "cell_type": "code",
   "execution_count": 6,
   "id": "7e12f7bb",
   "metadata": {},
   "outputs": [
    {
     "data": {
      "text/plain": [
       "2"
      ]
     },
     "execution_count": 6,
     "metadata": {},
     "output_type": "execute_result"
    }
   ],
   "source": [
    "new_list.count(4)"
   ]
  },
  {
   "cell_type": "code",
   "execution_count": 7,
   "id": "80193bdd",
   "metadata": {},
   "outputs": [
    {
     "data": {
      "text/plain": [
       "0"
      ]
     },
     "execution_count": 7,
     "metadata": {},
     "output_type": "execute_result"
    }
   ],
   "source": [
    "new_list.count(10)"
   ]
  },
  {
   "cell_type": "code",
   "execution_count": 9,
   "id": "174ab0e6",
   "metadata": {},
   "outputs": [
    {
     "data": {
      "text/plain": [
       "3"
      ]
     },
     "execution_count": 9,
     "metadata": {},
     "output_type": "execute_result"
    }
   ],
   "source": [
    "new_list.pop(3)"
   ]
  },
  {
   "cell_type": "code",
   "execution_count": null,
   "id": "f82d64e8",
   "metadata": {},
   "outputs": [
    {
     "data": {
      "text/plain": [
       "[0, 1, 2, 4, 0, 1, 2, 3]"
      ]
     },
     "execution_count": 10,
     "metadata": {},
     "output_type": "execute_result"
    }
   ],
   "source": [
    "new_list"
   ]
  },
  {
   "cell_type": "code",
   "execution_count": 11,
   "id": "ac202558",
   "metadata": {},
   "outputs": [],
   "source": [
    "new_list.sort()"
   ]
  },
  {
   "cell_type": "code",
   "execution_count": 12,
   "id": "654270f3",
   "metadata": {},
   "outputs": [
    {
     "data": {
      "text/plain": [
       "[0, 0, 1, 1, 2, 2, 3, 4]"
      ]
     },
     "execution_count": 12,
     "metadata": {},
     "output_type": "execute_result"
    }
   ],
   "source": [
    "new_list"
   ]
  }
 ],
 "metadata": {
  "kernelspec": {
   "display_name": "base",
   "language": "python",
   "name": "python3"
  },
  "language_info": {
   "codemirror_mode": {
    "name": "ipython",
    "version": 3
   },
   "file_extension": ".py",
   "mimetype": "text/x-python",
   "name": "python",
   "nbconvert_exporter": "python",
   "pygments_lexer": "ipython3",
   "version": "3.9.7"
  }
 },
 "nbformat": 4,
 "nbformat_minor": 5
}
