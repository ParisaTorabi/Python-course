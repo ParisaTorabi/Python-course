{
 "cells": [
  {
   "cell_type": "code",
   "execution_count": null,
   "id": "66a0c88d",
   "metadata": {},
   "outputs": [],
   "source": [
    "\n",
    "def mergeAlternately(word1, word2):\n",
    "    \"\"\"\n",
    "    :type word1: str\n",
    "    :type word2: str\n",
    "    :rtype: str\n",
    "    \"\"\"\n",
    "    merged_word = \"\"\n",
    "    length_w1 = len(word1)\n",
    "    length_w2 = len(word2)\n",
    "    for_loop_length = min(length_w1, length_w2)\n",
    "\n",
    "    for i in range(for_loop_length):\n",
    "        merged_word += word1[i]\n",
    "        merged_word += word2[i]\n",
    "\n",
    "    if for_loop_length == length_w1:\n",
    "        merged_word += word2[for_loop_length+1:]\n",
    "    else:\n",
    "        merged_word += word1[for_loop_length+1:]\n",
    "\n",
    "    return merged_word"
   ]
  },
  {
   "cell_type": "code",
   "execution_count": null,
   "id": "f839af19",
   "metadata": {},
   "outputs": [],
   "source": [
    "mergeAlternately(\"abc\", \"pqr\")"
   ]
  },
  {
   "cell_type": "code",
   "execution_count": null,
   "id": "7a7ed9bc",
   "metadata": {},
   "outputs": [],
   "source": [
    "i = \"abcb\".index(\"b\")"
   ]
  },
  {
   "cell_type": "code",
   "execution_count": 1,
   "id": "6baed88a",
   "metadata": {},
   "outputs": [],
   "source": [
    "def isPalindrome(s):\n",
    "    \"\"\"\n",
    "    :type s: str\n",
    "    :rtype: bool\n",
    "    \"\"\"\n",
    "    pointer_s = 0\n",
    "    pointer_e = len(s)-1\n",
    "    while pointer_s < pointer_e:\n",
    "        while not s[pointer_s].isalnum():\n",
    "            pointer_s += 1\n",
    "        while not s[pointer_e].isalnum():\n",
    "            pointer_e -= 1\n",
    "            \n",
    "        if s[pointer_s].lower() != s[pointer_e].lower():\n",
    "            return False\n",
    "        pointer_s += 1\n",
    "        pointer_e -= 1\n",
    "\n",
    "    return True"
   ]
  },
  {
   "cell_type": "code",
   "execution_count": 2,
   "id": "5a0f986c",
   "metadata": {},
   "outputs": [
    {
     "data": {
      "text/plain": [
       "True"
      ]
     },
     "execution_count": 2,
     "metadata": {},
     "output_type": "execute_result"
    }
   ],
   "source": [
    "s = \"A man, a plan, a canal: Panama\"\n",
    "isPalindrome(s)"
   ]
  }
 ],
 "metadata": {
  "kernelspec": {
   "display_name": "base",
   "language": "python",
   "name": "python3"
  },
  "language_info": {
   "codemirror_mode": {
    "name": "ipython",
    "version": 3
   },
   "file_extension": ".py",
   "mimetype": "text/x-python",
   "name": "python",
   "nbconvert_exporter": "python",
   "pygments_lexer": "ipython3",
   "version": "3.9.7"
  }
 },
 "nbformat": 4,
 "nbformat_minor": 5
}
